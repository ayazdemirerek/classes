{
 "cells": [
  {
   "cell_type": "code",
   "execution_count": 44,
   "metadata": {},
   "outputs": [
    {
     "name": "stdout",
     "output_type": "stream",
     "text": [
      " Not Weird \n",
      "Not weird\n"
     ]
    }
   ],
   "source": [
    "import math\n",
    "import os\n",
    "import random\n",
    "import re\n",
    "import sys\n",
    "\n",
    "n = int(input('Enter a number: ').strip ())\n",
    "\n",
    "if n%2 == 1: \n",
    "    print ('Weird')\n",
    "if n%2 == 0 and n in range(2,5):\n",
    "    print('Not Weird')\n",
    "if n%2==1 and n in range(6,20):\n",
    "    print('Weird')\n",
    "if n%2==0 and n>20:\n",
    "    print(' Not Weird ')\n",
    "if n % 2 == 0 :\n",
    "    print ('Not weird')"
   ]
  },
  {
   "cell_type": "code",
   "execution_count": 22,
   "metadata": {},
   "outputs": [
    {
     "name": "stdout",
     "output_type": "stream",
     "text": [
      "012345678"
     ]
    }
   ],
   "source": [
    "n = int(input())\n",
    "    \n",
    "for number in range(n+1):\n",
    "    print(number,end='')"
   ]
  }
 ],
 "metadata": {
  "kernelspec": {
   "display_name": "Python 3",
   "language": "python",
   "name": "python3"
  },
  "language_info": {
   "codemirror_mode": {
    "name": "ipython",
    "version": 3
   },
   "file_extension": ".py",
   "mimetype": "text/x-python",
   "name": "python",
   "nbconvert_exporter": "python",
   "pygments_lexer": "ipython3",
   "version": "3.12.0"
  }
 },
 "nbformat": 4,
 "nbformat_minor": 2
}
