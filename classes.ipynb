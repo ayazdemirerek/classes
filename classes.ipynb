{
 "cells": [
  {
   "cell_type": "code",
   "execution_count": 338,
   "metadata": {},
   "outputs": [],
   "source": [
    "class Computer:\n",
    "    def __init__(self,screen,weight,color,internet):\n",
    "        self.screen=screen\n",
    "        self.weight=weight\n",
    "        self.color=color\n",
    "        self.internet=internet\n",
    "    \n",
    "    def play(self):\n",
    "        print(f'I play computer games on my {self.screen} screen')\n",
    "    \n",
    "    def watch(self):\n",
    "        print(f\"I can't use Netflix without {self.internet}\")\n",
    "\n",
    "    def print_papers(self):\n",
    "        print(f\"I can print papers with {self.internet}\")\n"
   ]
  },
  {
   "cell_type": "code",
   "execution_count": 339,
   "metadata": {},
   "outputs": [],
   "source": [
    "my_computer= Computer(screen=\"big\",weight=\"3\",color=\"black\",internet='internet')"
   ]
  },
  {
   "cell_type": "code",
   "execution_count": 340,
   "metadata": {},
   "outputs": [
    {
     "data": {
      "text/plain": [
       "'black'"
      ]
     },
     "execution_count": 340,
     "metadata": {},
     "output_type": "execute_result"
    }
   ],
   "source": [
    "my_computer.color"
   ]
  },
  {
   "cell_type": "code",
   "execution_count": 341,
   "metadata": {},
   "outputs": [
    {
     "name": "stdout",
     "output_type": "stream",
     "text": [
      "this computer is black\n"
     ]
    }
   ],
   "source": [
    "print('this computer is',my_computer.color)"
   ]
  },
  {
   "cell_type": "code",
   "execution_count": 342,
   "metadata": {},
   "outputs": [
    {
     "data": {
      "text/plain": [
       "'this computer is black'"
      ]
     },
     "execution_count": 342,
     "metadata": {},
     "output_type": "execute_result"
    }
   ],
   "source": [
    "f'this computer is {my_computer.color}'"
   ]
  },
  {
   "cell_type": "code",
   "execution_count": 343,
   "metadata": {},
   "outputs": [
    {
     "name": "stdout",
     "output_type": "stream",
     "text": [
      "I play computer games on my big screen\n"
     ]
    }
   ],
   "source": [
    "my_computer.play()"
   ]
  },
  {
   "cell_type": "code",
   "execution_count": 344,
   "metadata": {},
   "outputs": [
    {
     "name": "stdout",
     "output_type": "stream",
     "text": [
      "I can't use Netflix without internet\n"
     ]
    }
   ],
   "source": [
    "my_computer.watch()"
   ]
  },
  {
   "cell_type": "code",
   "execution_count": 345,
   "metadata": {},
   "outputs": [
    {
     "name": "stdout",
     "output_type": "stream",
     "text": [
      "I can print papers with internet\n"
     ]
    }
   ],
   "source": [
    "my_computer.print_papers()"
   ]
  },
  {
   "cell_type": "code",
   "execution_count": 346,
   "metadata": {},
   "outputs": [],
   "source": [
    "class Smartphone:\n",
    "    def __init__(self,screen,battery,system,camera,storage):\n",
    "        self.screen=screen\n",
    "        self.battery=battery    \n",
    "        self.system=system\n",
    "        self.camera=camera\n",
    "        self.storage=storage\n",
    "    def take_photo(self):\n",
    "        print(f\"I can take photo with my {self.camera} smartphones camera\")\n",
    "    def watch_videos(self):\n",
    "        print(f\"I can watch videos with my phones {self.screen} screen\")\n",
    "    def use(self):\n",
    "        print(f\"I can use my phone until 10 pm with {self.battery} battery\")\n",
    "\n",
    "    "
   ]
  },
  {
   "cell_type": "code",
   "execution_count": 347,
   "metadata": {},
   "outputs": [],
   "source": [
    "my_smartphone=Smartphone (screen='6.5 inches',battery='400mhAh',system='Android',camera='12MP back,8MP front',storage='128GB')"
   ]
  },
  {
   "cell_type": "code",
   "execution_count": 348,
   "metadata": {},
   "outputs": [
    {
     "name": "stdout",
     "output_type": "stream",
     "text": [
      "I can use my phone until 10 pm with 400mhAh battery\n"
     ]
    }
   ],
   "source": [
    "my_smartphone.use()"
   ]
  },
  {
   "cell_type": "code",
   "execution_count": 349,
   "metadata": {},
   "outputs": [
    {
     "name": "stdout",
     "output_type": "stream",
     "text": [
      "I can take photo with my 12MP back,8MP front smartphones camera\n"
     ]
    }
   ],
   "source": [
    "my_smartphone.take_photo()"
   ]
  },
  {
   "cell_type": "code",
   "execution_count": 350,
   "metadata": {},
   "outputs": [
    {
     "name": "stdout",
     "output_type": "stream",
     "text": [
      "I can watch videos with my phones 6.5 inches screen\n"
     ]
    }
   ],
   "source": [
    "my_smartphone.watch_videos()"
   ]
  },
  {
   "cell_type": "code",
   "execution_count": 351,
   "metadata": {},
   "outputs": [],
   "source": [
    "class Laptop:\n",
    "    def __init__(self,screen,processor,RAM,storage,system):\n",
    "        self.screen=screen\n",
    "        self.processor=processor\n",
    "        self.RAM=RAM\n",
    "        self.storage=storage\n",
    "        self.system=system\n",
    "        \n",
    "    def capacity(self):\n",
    "        print(f\"I can download games in my computers {self.storage}\")\n",
    "    \n",
    "    def upgrade(self):\n",
    "        print(f\"I should upgrade my {self.system} to windows 11\")\n",
    "    \n",
    "    def open (self):\n",
    "        print(f\"I can play games with {self.screen} screen\")\n",
    "\n"
   ]
  },
  {
   "cell_type": "code",
   "execution_count": 352,
   "metadata": {},
   "outputs": [],
   "source": [
    "my_laptop=Laptop(screen='15.6 inches',processor='Intel Core i7',RAM='16GB',storage='512GB SSD',system='Windows 10') "
   ]
  },
  {
   "cell_type": "code",
   "execution_count": 353,
   "metadata": {},
   "outputs": [
    {
     "name": "stdout",
     "output_type": "stream",
     "text": [
      "I can download games in my computers 512GB SSD\n"
     ]
    }
   ],
   "source": [
    "my_laptop.capacity()"
   ]
  },
  {
   "cell_type": "code",
   "execution_count": 354,
   "metadata": {},
   "outputs": [
    {
     "name": "stdout",
     "output_type": "stream",
     "text": [
      "I should upgrade my Windows 10 to windows 11\n"
     ]
    }
   ],
   "source": [
    "my_laptop.upgrade()"
   ]
  },
  {
   "cell_type": "code",
   "execution_count": 355,
   "metadata": {},
   "outputs": [
    {
     "name": "stdout",
     "output_type": "stream",
     "text": [
      "I can play games with 15.6 inches screen\n"
     ]
    }
   ],
   "source": [
    "my_laptop.open()"
   ]
  },
  {
   "cell_type": "code",
   "execution_count": 356,
   "metadata": {},
   "outputs": [],
   "source": [
    "class Refrigator:\n",
    "    def __init__(self,size,energy,doors,type,color):\n",
    "        self.size=size\n",
    "        self.energy=energy\n",
    "        self.doors=doors\n",
    "        self.type=type\n",
    "        self.color=color\n",
    "    \n",
    "    def capacity(self):\n",
    "        print(f\"You can put a lot of things in my refrigator because of {self.size}\")\n",
    "    def electricity(self):\n",
    "        print(f\"My refrigator spend a very low electricty because of {self.energy}\")\n",
    "    def snow(self):\n",
    "        print(f\"My refrigator don't have snows because of {self.type}\")\n"
   ]
  },
  {
   "cell_type": "code",
   "execution_count": 357,
   "metadata": {},
   "outputs": [],
   "source": [
    "my_refrigator=Refrigator(size='500 liters' ,energy='A++' ,doors='2' ,type='Frost-free' ,color='silver')"
   ]
  },
  {
   "cell_type": "code",
   "execution_count": 358,
   "metadata": {},
   "outputs": [
    {
     "name": "stdout",
     "output_type": "stream",
     "text": [
      "You can put a lot of things in my refrigator because of 500 liters\n"
     ]
    }
   ],
   "source": [
    "my_refrigator.capacity()"
   ]
  },
  {
   "cell_type": "code",
   "execution_count": 359,
   "metadata": {},
   "outputs": [
    {
     "name": "stdout",
     "output_type": "stream",
     "text": [
      "My refrigator spend a very low electricty because of A++\n"
     ]
    }
   ],
   "source": [
    "my_refrigator.electricity()"
   ]
  },
  {
   "cell_type": "code",
   "execution_count": 360,
   "metadata": {},
   "outputs": [
    {
     "name": "stdout",
     "output_type": "stream",
     "text": [
      "My refrigator don't have snows because of Frost-free\n"
     ]
    }
   ],
   "source": [
    "my_refrigator.snow()"
   ]
  },
  {
   "cell_type": "code",
   "execution_count": 361,
   "metadata": {},
   "outputs": [],
   "source": [
    "class Washing_machine:\n",
    "    def __init__(self,size,energy,spin,programs):\n",
    "        self.size=size\n",
    "        self.energy=size\n",
    "        self.spin=spin\n",
    "        self.program=programs\n",
    "    \n",
    "    def variation(self):\n",
    "        print(f\"washing machine has 4 modes like {self.program}\")\n",
    "    def speed(self):\n",
    "        print(f'my washing machine is faster than me because of {self.spin}')\n",
    "    def heavy(self):\n",
    "        print(f\"my washing machine have {self.size} size so heavier than my nephew\")"
   ]
  },
  {
   "cell_type": "code",
   "execution_count": 362,
   "metadata": {},
   "outputs": [],
   "source": [
    "my_washing_machine=Washing_machine(size='8kg',energy='Front-load',spin='1400 RPM', programs='Cotton,Syntetichs,Delicates,Quick wash')"
   ]
  },
  {
   "cell_type": "code",
   "execution_count": 363,
   "metadata": {},
   "outputs": [
    {
     "name": "stdout",
     "output_type": "stream",
     "text": [
      "washing machine has 4 modes like Cotton,Syntetichs,Delicates,Quick wash\n"
     ]
    }
   ],
   "source": [
    "my_washing_machine.variation()"
   ]
  },
  {
   "cell_type": "code",
   "execution_count": 364,
   "metadata": {},
   "outputs": [
    {
     "name": "stdout",
     "output_type": "stream",
     "text": [
      "my washing machine is faster than me because of 1400 RPM\n"
     ]
    }
   ],
   "source": [
    "my_washing_machine.speed()"
   ]
  },
  {
   "cell_type": "code",
   "execution_count": 365,
   "metadata": {},
   "outputs": [
    {
     "name": "stdout",
     "output_type": "stream",
     "text": [
      "my washing machine have 8kg size so heavier than my nephew\n"
     ]
    }
   ],
   "source": [
    "my_washing_machine.heavy()"
   ]
  },
  {
   "cell_type": "code",
   "execution_count": 366,
   "metadata": {},
   "outputs": [],
   "source": [
    "class Cat:\n",
    "    def __init__(self,ear,leg,hair,name):\n",
    "        self.ear=ear\n",
    "        self.hair=hair\n",
    "        self.leg=leg\n",
    "        self.name=name\n",
    "\n",
    "    def dinlemek(self):\n",
    "        print(f\"My cat can {self.ear}.\")\n",
    "        \n",
    "        \n",
    "        \n",
    "class Dog:\n",
    "    def __init__(self,ear,leg,hair,name):\n",
    "        self.ear=ear\n",
    "        self.hair=hair\n",
    "        self.leg=leg\n",
    "        self.name=name\n",
    "\n",
    "    def dinlemek(self):\n",
    "        print(f\"My dog can {self.ear}.\")\n",
    "\n",
    "\n",
    "\n",
    "              \n",
    "\n",
    "\n",
    "    "
   ]
  },
  {
   "cell_type": "code",
   "execution_count": 367,
   "metadata": {},
   "outputs": [],
   "source": [
    "class Animals: \n",
    "  def __init__(self,name):\n",
    "    self.name=name\n",
    "  \n",
    "  def sleep(self):\n",
    "    print(f'{self.name} is asleep right now.')\n",
    "  \n",
    "  def konuşmak(self):\n",
    "    print(f\"My animals's name is {self.name}.\")\n",
    "\n",
    "class Dog(Animals):\n",
    "  def running(self):\n",
    "    print(f'Dog is runned and bite me.')\n",
    "\n",
    "class Rabbit(Animals):\n",
    "  def jumping(self):\n",
    "    print(f\"Rabbit jumping on the asphalt road\")\n"
   ]
  },
  {
   "cell_type": "code",
   "execution_count": 368,
   "metadata": {},
   "outputs": [],
   "source": [
    "dog=Dog(name='Muzaffer')"
   ]
  },
  {
   "cell_type": "code",
   "execution_count": 369,
   "metadata": {},
   "outputs": [
    {
     "data": {
      "text/plain": [
       "'Muzaffer'"
      ]
     },
     "execution_count": 369,
     "metadata": {},
     "output_type": "execute_result"
    }
   ],
   "source": [
    "dog.name"
   ]
  },
  {
   "cell_type": "code",
   "execution_count": 370,
   "metadata": {},
   "outputs": [
    {
     "name": "stdout",
     "output_type": "stream",
     "text": [
      "My animals's name is Muzaffer.\n"
     ]
    }
   ],
   "source": [
    "dog.konuşmak()"
   ]
  },
  {
   "cell_type": "code",
   "execution_count": 371,
   "metadata": {},
   "outputs": [
    {
     "name": "stdout",
     "output_type": "stream",
     "text": [
      "Dog is runned and bite me.\n"
     ]
    }
   ],
   "source": [
    "dog.running()"
   ]
  },
  {
   "cell_type": "code",
   "execution_count": 372,
   "metadata": {},
   "outputs": [],
   "source": [
    "rabbit=Rabbit(name='John F. Keneddy')"
   ]
  },
  {
   "cell_type": "code",
   "execution_count": 373,
   "metadata": {},
   "outputs": [
    {
     "data": {
      "text/plain": [
       "'John F. Keneddy'"
      ]
     },
     "execution_count": 373,
     "metadata": {},
     "output_type": "execute_result"
    }
   ],
   "source": [
    "rabbit.name"
   ]
  },
  {
   "cell_type": "code",
   "execution_count": 374,
   "metadata": {},
   "outputs": [
    {
     "name": "stdout",
     "output_type": "stream",
     "text": [
      "Rabbit jumping on the asphalt road\n"
     ]
    }
   ],
   "source": [
    "rabbit.jumping()"
   ]
  },
  {
   "cell_type": "code",
   "execution_count": 375,
   "metadata": {},
   "outputs": [
    {
     "name": "stdout",
     "output_type": "stream",
     "text": [
      "John F. Keneddy is asleep right now.\n"
     ]
    }
   ],
   "source": [
    "rabbit.sleep()"
   ]
  },
  {
   "cell_type": "code",
   "execution_count": 376,
   "metadata": {},
   "outputs": [],
   "source": [
    "class Vehicle:\n",
    "    def __init__(self,brand):\n",
    "        self.brand=brand\n",
    "    def fren(self):\n",
    "        print(f'{self.brand} vehicles are have good brakes')\n",
    "\n",
    "class Bike(Vehicle):\n",
    "    def inmek(self):\n",
    "        print(f'I can go down the stairs with my {self.brand} Bike')\n",
    "\n",
    "class Car(Vehicle):\n",
    "    def yolculuk(self):\n",
    "        print(f\"We can go summery with {self.brand} car\")\n",
    "\n",
    "class Truck(Vehicle):\n",
    "    def sevgi(self):\n",
    "        print(f'I am very like {self.brand} trucks')"
   ]
  },
  {
   "cell_type": "code",
   "execution_count": 377,
   "metadata": {},
   "outputs": [],
   "source": [
    "bike=Bike(brand='Ümit')"
   ]
  },
  {
   "cell_type": "code",
   "execution_count": 378,
   "metadata": {},
   "outputs": [
    {
     "data": {
      "text/plain": [
       "'Ümit'"
      ]
     },
     "execution_count": 378,
     "metadata": {},
     "output_type": "execute_result"
    }
   ],
   "source": [
    "bike.brand"
   ]
  },
  {
   "cell_type": "code",
   "execution_count": 379,
   "metadata": {},
   "outputs": [
    {
     "name": "stdout",
     "output_type": "stream",
     "text": [
      "I can go down the stairs with my Ümit Bike\n"
     ]
    }
   ],
   "source": [
    "bike.inmek()"
   ]
  },
  {
   "cell_type": "code",
   "execution_count": 380,
   "metadata": {},
   "outputs": [],
   "source": [
    "car=Car(brand='Renault')"
   ]
  },
  {
   "cell_type": "code",
   "execution_count": 381,
   "metadata": {},
   "outputs": [
    {
     "data": {
      "text/plain": [
       "'Renault'"
      ]
     },
     "execution_count": 381,
     "metadata": {},
     "output_type": "execute_result"
    }
   ],
   "source": [
    "car.brand"
   ]
  },
  {
   "cell_type": "code",
   "execution_count": 382,
   "metadata": {},
   "outputs": [
    {
     "name": "stdout",
     "output_type": "stream",
     "text": [
      "We can go summery with Renault car\n"
     ]
    }
   ],
   "source": [
    "car.yolculuk()"
   ]
  },
  {
   "cell_type": "code",
   "execution_count": 383,
   "metadata": {},
   "outputs": [],
   "source": [
    "truck=Truck(brand='BMC')"
   ]
  },
  {
   "cell_type": "code",
   "execution_count": 384,
   "metadata": {},
   "outputs": [
    {
     "data": {
      "text/plain": [
       "'BMC'"
      ]
     },
     "execution_count": 384,
     "metadata": {},
     "output_type": "execute_result"
    }
   ],
   "source": [
    "truck.brand"
   ]
  },
  {
   "cell_type": "code",
   "execution_count": 385,
   "metadata": {},
   "outputs": [
    {
     "name": "stdout",
     "output_type": "stream",
     "text": [
      "I am very like BMC trucks\n"
     ]
    }
   ],
   "source": [
    "truck.sevgi()"
   ]
  },
  {
   "cell_type": "code",
   "execution_count": 386,
   "metadata": {},
   "outputs": [
    {
     "name": "stdout",
     "output_type": "stream",
     "text": [
      "BMC vehicles are have good brakes\n"
     ]
    }
   ],
   "source": [
    "truck.fren()"
   ]
  },
  {
   "cell_type": "code",
   "execution_count": 387,
   "metadata": {},
   "outputs": [],
   "source": [
    "class ElectronicDevice:\n",
    "    def __init__(self,brand):\n",
    "        self.brand=brand\n",
    "    def durability(self):\n",
    "        print(f'{self.brand} devices are have good durability')\n",
    "    def battery(self):\n",
    "        print(f\"{self.brand} devices are have good battery\")\n",
    "\n",
    "class Phone(ElectronicDevice):\n",
    "    def dokunmatik(self):\n",
    "        print(f'My {self.brand} phone is have good battery')\n",
    "\n",
    "class Laptop(ElectronicDevice):\n",
    "    def taşınabilir(self):\n",
    "        print(f\"My {self.brand} Laptop is strong and have good battery so I can carry\")\n",
    "\n",
    "class Tablet(ElectronicDevice):\n",
    "    def sağlamlık(self):\n",
    "        print(f'{self.brand} tablets not so strong')"
   ]
  },
  {
   "cell_type": "code",
   "execution_count": 388,
   "metadata": {},
   "outputs": [],
   "source": [
    "phone=Phone(brand='Nokia')"
   ]
  },
  {
   "cell_type": "code",
   "execution_count": 389,
   "metadata": {},
   "outputs": [
    {
     "data": {
      "text/plain": [
       "'Nokia'"
      ]
     },
     "execution_count": 389,
     "metadata": {},
     "output_type": "execute_result"
    }
   ],
   "source": [
    "phone.brand"
   ]
  },
  {
   "cell_type": "code",
   "execution_count": 390,
   "metadata": {},
   "outputs": [
    {
     "name": "stdout",
     "output_type": "stream",
     "text": [
      "My Nokia phone is have good battery\n"
     ]
    }
   ],
   "source": [
    "phone.dokunmatik()"
   ]
  },
  {
   "cell_type": "code",
   "execution_count": 391,
   "metadata": {},
   "outputs": [],
   "source": [
    "laptop=Laptop(brand='Lenovo')"
   ]
  },
  {
   "cell_type": "code",
   "execution_count": 392,
   "metadata": {},
   "outputs": [
    {
     "name": "stdout",
     "output_type": "stream",
     "text": [
      "My Lenovo Laptop is strong and have good battery so I can carry\n"
     ]
    }
   ],
   "source": [
    "laptop.taşınabilir()"
   ]
  },
  {
   "cell_type": "code",
   "execution_count": 393,
   "metadata": {},
   "outputs": [],
   "source": [
    "tablet=Tablet(brand='samsung')"
   ]
  },
  {
   "cell_type": "code",
   "execution_count": 394,
   "metadata": {},
   "outputs": [],
   "source": [
    "class Animal:\n",
    "    def __init__(self,name):\n",
    "        self.name=name\n",
    "    def uyku(self):\n",
    "        print(f\"{self.name}s are sleeps.\")\n",
    "    def yemek(self):\n",
    "        print(f\"{self.name}s should eat.\")\n",
    "class Herbivore(Animal):\n",
    "    def kaçmak(self):\n",
    "        print(\"Herbivores spend a lot of time for running away from predators.\")\n",
    "\n",
    "class Carnival(Animal):\n",
    "    def bölge(self):\n",
    "        print(\"Carnivals make their own territories.\")\n",
    "\n",
    "class Giraffe(Herbivore):\n",
    "    def gezmek(self):\n",
    "        print(\"Giraffes are likes to travel for good leaves.\")\n",
    "class Cheetah(Carnival):\n",
    "    def koşmak(self):\n",
    "        print(\"Cheetahs very fast as like a formula 1 car so they can grab their hunts easly.\")\n",
    "class Human(Herbivore,Carnival):\n",
    "    def vegan(self):\n",
    "        print(\"Humans are omnivorse but some humans herbivore.\")\n"
   ]
  },
  {
   "cell_type": "code",
   "execution_count": 395,
   "metadata": {},
   "outputs": [],
   "source": [
    "giraffe=Giraffe(name='giraffe')"
   ]
  },
  {
   "cell_type": "code",
   "execution_count": 396,
   "metadata": {},
   "outputs": [
    {
     "data": {
      "text/plain": [
       "'giraffe'"
      ]
     },
     "execution_count": 396,
     "metadata": {},
     "output_type": "execute_result"
    }
   ],
   "source": [
    "giraffe.name"
   ]
  },
  {
   "cell_type": "code",
   "execution_count": 397,
   "metadata": {},
   "outputs": [],
   "source": [
    "cheetah=Cheetah(name='cheetah')"
   ]
  },
  {
   "cell_type": "code",
   "execution_count": 398,
   "metadata": {},
   "outputs": [
    {
     "name": "stdout",
     "output_type": "stream",
     "text": [
      "cheetahs should eat.\n"
     ]
    }
   ],
   "source": [
    "cheetah.yemek()"
   ]
  },
  {
   "cell_type": "code",
   "execution_count": 401,
   "metadata": {},
   "outputs": [],
   "source": [
    "human=Human(name='human')"
   ]
  },
  {
   "cell_type": "code",
   "execution_count": 400,
   "metadata": {},
   "outputs": [
    {
     "name": "stdout",
     "output_type": "stream",
     "text": [
      "humans are sleeps.\n"
     ]
    }
   ],
   "source": [
    "human.uyku()"
   ]
  }
 ],
 "metadata": {
  "kernelspec": {
   "display_name": "Python 3",
   "language": "python",
   "name": "python3"
  },
  "language_info": {
   "codemirror_mode": {
    "name": "ipython",
    "version": 3
   },
   "file_extension": ".py",
   "mimetype": "text/x-python",
   "name": "python",
   "nbconvert_exporter": "python",
   "pygments_lexer": "ipython3",
   "version": "3.12.0"
  }
 },
 "nbformat": 4,
 "nbformat_minor": 2
}
